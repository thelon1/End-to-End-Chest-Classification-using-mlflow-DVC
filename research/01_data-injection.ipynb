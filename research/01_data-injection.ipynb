{
 "cells": [
  {
   "cell_type": "code",
   "execution_count": 1,
   "id": "7bcd3af3",
   "metadata": {},
   "outputs": [],
   "source": [
    "import os"
   ]
  },
  {
   "cell_type": "code",
   "execution_count": 2,
   "id": "104ee7f2",
   "metadata": {},
   "outputs": [
    {
     "name": "stdout",
     "output_type": "stream",
     "text": [
      "c:\\Users\\Acer\\OneDrive\\Desktop\\Chest classification Project\\End-to-End-Chest-Classification-using-mlflow-DVC\\research\n"
     ]
    }
   ],
   "source": [
    "print(os.getcwd())"
   ]
  },
  {
   "cell_type": "markdown",
   "id": "67d0202d",
   "metadata": {},
   "source": [
    "### ***Helps to move `back the folder`***"
   ]
  },
  {
   "cell_type": "code",
   "execution_count": 3,
   "id": "4e05c95a",
   "metadata": {},
   "outputs": [],
   "source": [
    "os.chdir('../')"
   ]
  },
  {
   "cell_type": "code",
   "execution_count": 4,
   "id": "91872350",
   "metadata": {},
   "outputs": [
    {
     "name": "stdout",
     "output_type": "stream",
     "text": [
      "c:\\Users\\Acer\\OneDrive\\Desktop\\Chest classification Project\\End-to-End-Chest-Classification-using-mlflow-DVC\n"
     ]
    }
   ],
   "source": [
    "print(os.getcwd()) #This code is got get back the folder."
   ]
  },
  {
   "cell_type": "code",
   "execution_count": 5,
   "id": "de317b73",
   "metadata": {},
   "outputs": [],
   "source": [
    "from dataclasses import dataclass\n",
    "from pathlib import Path"
   ]
  },
  {
   "cell_type": "code",
   "execution_count": 6,
   "id": "b96e9a7b",
   "metadata": {},
   "outputs": [],
   "source": [
    "'''\n",
    "once it’s defined and returned, you’re only allowed to use the attributes defined in the class, \n",
    "and you cannot add or mutate anything else.\n",
    "\n",
    "'''\n",
    "\n",
    "@dataclass(frozen=True)\n",
    "class DataInjectionConfig:\n",
    "    root_dir: Path\n",
    "    source_url: str\n",
    "    local_data_file: Path\n",
    "    unzip_dir: Path\n"
   ]
  },
  {
   "cell_type": "code",
   "execution_count": 7,
   "id": "f1f0b4bb",
   "metadata": {},
   "outputs": [],
   "source": [
    "'''\n",
    "\n",
    "1. Importing all the constants from the `cnnClassifier.constants` module.\n",
    "2. Importing utility functions `read_yaml` and `create_directories` from the `cnnClassifier.utils.common` module. \n",
    "\n",
    "'''\n",
    "\n",
    "from cnnClassifier.constants import *\n",
    "from cnnClassifier.utils.common import read_yaml, create_directories"
   ]
  },
  {
   "cell_type": "code",
   "execution_count": 8,
   "id": "7d4cc214",
   "metadata": {},
   "outputs": [],
   "source": [
    "'''\n",
    "\n",
    "The ConfigurationManager class reads configuration and parameter YAML files, prepares necessary directories, \n",
    "and returns a structured config object for data ingestion.\n",
    "\n",
    "'''\n",
    "\n",
    "\n",
    "class ConfigurationManager:\n",
    "    def __init__(\n",
    "        self,\n",
    "        config_filepath = CONFIG_FILE_PATH,\n",
    "        params_filepath = PARAMS_FILE_PATH\n",
    "    ):\n",
    "        self.config = read_yaml(config_filepath)\n",
    "        self.params = read_yaml(params_filepath)\n",
    "\n",
    "        create_directories([self.config[\"artifacts_roots\"]])\n",
    "\n",
    "    def get_data_ingestion_config(self) -> DataInjectionConfig:\n",
    "        config = self.config[\"data_ingestion\"]  # Make sure this is a dict\n",
    "\n",
    "        create_directories([config[\"root_dir\"]])  # Create data ingestion folder\n",
    "\n",
    "        data_ingestion_config = DataInjectionConfig(\n",
    "            root_dir = config[\"root_dir\"],\n",
    "            source_url = config[\"source_url\"],\n",
    "            local_data_file = config[\"local_data_file\"],\n",
    "            unzip_dir = config[\"unzip_dir\"]\n",
    "        )\n",
    "\n",
    "        return data_ingestion_config\n"
   ]
  },
  {
   "cell_type": "code",
   "execution_count": 9,
   "id": "753982d9",
   "metadata": {},
   "outputs": [],
   "source": [
    "import os\n",
    "import gdown\n",
    "import zipfile\n",
    "from cnnClassifier import logger\n",
    "from cnnClassifier.utils.common import get_size  \n",
    "\n",
    "class DataIngestion:\n",
    "\n",
    "    def __init__(self, config: DataInjectionConfig):\n",
    "        self.config = config\n",
    "\n",
    "    def download_file(self):\n",
    "        try:\n",
    "            dataset_url = self.config.source_url\n",
    "            zip_download_dir = self.config.local_data_file\n",
    "            os.makedirs(\"artifacts/data_ingestion\", exist_ok=True)\n",
    "\n",
    "            logger.info(f\"Downloading data from {dataset_url} to {zip_download_dir} ......\")\n",
    "\n",
    "            file_id = dataset_url.split(\"/\")[-2]\n",
    "            prefix = 'https://drive.google.com/uc?export=download&id='\n",
    "            gdown.download(prefix + file_id, zip_download_dir)\n",
    "\n",
    "            logger.info(\"Download completed successfully.\")\n",
    "\n",
    "        except Exception as e:\n",
    "            logger.error(f\"Download failed: {e}\")\n",
    "            raise e\n",
    "\n",
    "    def extract_zip_file(self):\n",
    "        try:\n",
    "            unzip_path = self.config.unzip_dir\n",
    "            os.makedirs(unzip_path, exist_ok=True)\n",
    "\n",
    "            with zipfile.ZipFile(self.config.local_data_file, 'r') as zip_ref:\n",
    "                zip_ref.extractall(unzip_path)\n",
    "\n",
    "            logger.info(f\"Extraction completed to {unzip_path}.\")\n",
    "\n",
    "        except Exception as e:\n",
    "            logger.error(f\"Extraction failed: {e}\")\n",
    "            raise e\n"
   ]
  },
  {
   "cell_type": "markdown",
   "id": "94e754d1",
   "metadata": {},
   "source": [
    "### ***`Update the pipeline`***"
   ]
  },
  {
   "cell_type": "code",
   "execution_count": 10,
   "id": "daf00225",
   "metadata": {},
   "outputs": [
    {
     "name": "stdout",
     "output_type": "stream",
     "text": [
      "[2025-07-01 22:20:59,787 : INFO: common : YAML file loaded: config\\config.yaml]\n",
      "[2025-07-01 22:20:59,851 : INFO: common : YAML file loaded: params.yaml]\n",
      "[2025-07-01 22:20:59,855 : INFO: common : Created directory at: artifacts]\n",
      "[2025-07-01 22:20:59,859 : INFO: common : Created directory at: artifacts/data_ingestion]\n",
      "[2025-07-01 22:20:59,864 : INFO: 27103143 : Downloading data from https://drive.google.com/file/d/1IC2oaggjc7B6vYAARDWhGhJwYiY5W8yW/view?usp=sharing to artifacts/data_ingestion/data.zip ......]\n"
     ]
    },
    {
     "name": "stderr",
     "output_type": "stream",
     "text": [
      "Downloading...\n",
      "From (original): https://drive.google.com/uc?export=download&id=1IC2oaggjc7B6vYAARDWhGhJwYiY5W8yW\n",
      "From (redirected): https://drive.google.com/uc?export=download&id=1IC2oaggjc7B6vYAARDWhGhJwYiY5W8yW&confirm=t&uuid=1ae6a74f-c29e-4040-bd2f-f7bd754cef15\n",
      "To: c:\\Users\\Acer\\OneDrive\\Desktop\\Chest classification Project\\End-to-End-Chest-Classification-using-mlflow-DVC\\artifacts\\data_ingestion\\data.zip\n",
      "100%|██████████| 49.0M/49.0M [03:06<00:00, 262kB/s] "
     ]
    },
    {
     "name": "stdout",
     "output_type": "stream",
     "text": [
      "[2025-07-01 22:24:10,321 : INFO: 27103143 : Download completed successfully.]\n"
     ]
    },
    {
     "name": "stderr",
     "output_type": "stream",
     "text": [
      "\n"
     ]
    },
    {
     "name": "stdout",
     "output_type": "stream",
     "text": [
      "[2025-07-01 22:24:13,469 : INFO: 27103143 : Extraction completed to artifacts/data_ingestion.]\n"
     ]
    }
   ],
   "source": [
    "try:\n",
    "    config = ConfigurationManager()\n",
    "    data_ingestion_config = config.get_data_ingestion_config()\n",
    "    data_ingestion = DataIngestion(config=data_ingestion_config)\n",
    "    data_ingestion.download_file()\n",
    "    data_ingestion.extract_zip_file()\n",
    "except Exception as e:\n",
    "    logger.error(f\"Data ingestion failed: {e}\")"
   ]
  }
 ],
 "metadata": {
  "kernelspec": {
   "display_name": "cancer",
   "language": "python",
   "name": "python3"
  },
  "language_info": {
   "codemirror_mode": {
    "name": "ipython",
    "version": 3
   },
   "file_extension": ".py",
   "mimetype": "text/x-python",
   "name": "python",
   "nbconvert_exporter": "python",
   "pygments_lexer": "ipython3",
   "version": "3.11.13"
  }
 },
 "nbformat": 4,
 "nbformat_minor": 5
}
